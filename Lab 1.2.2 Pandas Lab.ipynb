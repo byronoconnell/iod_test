{
 "cells": [
  {
   "cell_type": "markdown",
   "metadata": {
    "id": "ZvGuEYgDsohG"
   },
   "source": [
    "<div>\n",
    "<img src=https://www.institutedata.com/wp-content/uploads/2019/10/iod_h_tp_primary_c.svg width=\"300\">\n",
    "</div>"
   ]
  },
  {
   "cell_type": "code",
   "execution_count": 1,
   "metadata": {
    "id": "k1hOvGzedsoO"
   },
   "outputs": [],
   "source": [
    "import numpy as np\n",
    "import pandas as pd\n",
    "import matplotlib.pyplot as plt\n",
    "from scipy import stats\n",
    "# get matplot to show charts inline\n",
    "%matplotlib inline"
   ]
  },
  {
   "cell_type": "markdown",
   "metadata": {
    "id": "idwTm8QinAE9"
   },
   "source": [
    "chrome://settings/content/cookies\n",
    "\n",
    "NOTE: Make sure third party cookies are not blocked."
   ]
  },
  {
   "cell_type": "code",
   "execution_count": 4,
   "metadata": {
    "id": "cPmJnMzgdsoR"
   },
   "outputs": [],
   "source": [
    "df = pd.read_csv(\"Employee-attrition.csv\")"
   ]
  },
  {
   "cell_type": "code",
   "execution_count": 5,
   "metadata": {
    "colab": {
     "base_uri": "https://localhost:8080/",
     "height": 217
    },
    "id": "0g0YHDJ1dsoT",
    "outputId": "135cae12-3ad0-485b-9db4-b02db8d9c7a0"
   },
   "outputs": [
    {
     "data": {
      "text/html": [
       "<div>\n",
       "<style scoped>\n",
       "    .dataframe tbody tr th:only-of-type {\n",
       "        vertical-align: middle;\n",
       "    }\n",
       "\n",
       "    .dataframe tbody tr th {\n",
       "        vertical-align: top;\n",
       "    }\n",
       "\n",
       "    .dataframe thead th {\n",
       "        text-align: right;\n",
       "    }\n",
       "</style>\n",
       "<table border=\"1\" class=\"dataframe\">\n",
       "  <thead>\n",
       "    <tr style=\"text-align: right;\">\n",
       "      <th></th>\n",
       "      <th>EmployeeID</th>\n",
       "      <th>recorddate_key</th>\n",
       "      <th>birthdate_key</th>\n",
       "      <th>orighiredate_key</th>\n",
       "      <th>terminationdate_key</th>\n",
       "      <th>age</th>\n",
       "      <th>length_of_service</th>\n",
       "      <th>city_name</th>\n",
       "      <th>department_name</th>\n",
       "      <th>job_title</th>\n",
       "      <th>store_name</th>\n",
       "      <th>gender_short</th>\n",
       "      <th>gender_full</th>\n",
       "      <th>termreason_desc</th>\n",
       "      <th>termtype_desc</th>\n",
       "      <th>STATUS_YEAR</th>\n",
       "      <th>STATUS</th>\n",
       "      <th>BUSINESS_UNIT</th>\n",
       "    </tr>\n",
       "  </thead>\n",
       "  <tbody>\n",
       "    <tr>\n",
       "      <th>0</th>\n",
       "      <td>1318</td>\n",
       "      <td>12/31/2006 0:00</td>\n",
       "      <td>1/3/1954</td>\n",
       "      <td>8/28/1989</td>\n",
       "      <td>1/1/1900</td>\n",
       "      <td>52</td>\n",
       "      <td>17</td>\n",
       "      <td>Vancouver</td>\n",
       "      <td>Executive</td>\n",
       "      <td>CEO</td>\n",
       "      <td>35</td>\n",
       "      <td>M</td>\n",
       "      <td>Male</td>\n",
       "      <td>Not Applicable</td>\n",
       "      <td>Not Applicable</td>\n",
       "      <td>2006</td>\n",
       "      <td>ACTIVE</td>\n",
       "      <td>HEADOFFICE</td>\n",
       "    </tr>\n",
       "    <tr>\n",
       "      <th>1</th>\n",
       "      <td>1318</td>\n",
       "      <td>12/31/2007 0:00</td>\n",
       "      <td>1/3/1954</td>\n",
       "      <td>8/28/1989</td>\n",
       "      <td>1/1/1900</td>\n",
       "      <td>53</td>\n",
       "      <td>18</td>\n",
       "      <td>Vancouver</td>\n",
       "      <td>Executive</td>\n",
       "      <td>CEO</td>\n",
       "      <td>35</td>\n",
       "      <td>M</td>\n",
       "      <td>Male</td>\n",
       "      <td>Not Applicable</td>\n",
       "      <td>Not Applicable</td>\n",
       "      <td>2007</td>\n",
       "      <td>ACTIVE</td>\n",
       "      <td>HEADOFFICE</td>\n",
       "    </tr>\n",
       "    <tr>\n",
       "      <th>2</th>\n",
       "      <td>1318</td>\n",
       "      <td>12/31/2008 0:00</td>\n",
       "      <td>1/3/1954</td>\n",
       "      <td>8/28/1989</td>\n",
       "      <td>1/1/1900</td>\n",
       "      <td>54</td>\n",
       "      <td>19</td>\n",
       "      <td>Vancouver</td>\n",
       "      <td>Executive</td>\n",
       "      <td>CEO</td>\n",
       "      <td>35</td>\n",
       "      <td>M</td>\n",
       "      <td>Male</td>\n",
       "      <td>Not Applicable</td>\n",
       "      <td>Not Applicable</td>\n",
       "      <td>2008</td>\n",
       "      <td>ACTIVE</td>\n",
       "      <td>HEADOFFICE</td>\n",
       "    </tr>\n",
       "    <tr>\n",
       "      <th>3</th>\n",
       "      <td>1318</td>\n",
       "      <td>12/31/2009 0:00</td>\n",
       "      <td>1/3/1954</td>\n",
       "      <td>8/28/1989</td>\n",
       "      <td>1/1/1900</td>\n",
       "      <td>55</td>\n",
       "      <td>20</td>\n",
       "      <td>Vancouver</td>\n",
       "      <td>Executive</td>\n",
       "      <td>CEO</td>\n",
       "      <td>35</td>\n",
       "      <td>M</td>\n",
       "      <td>Male</td>\n",
       "      <td>Not Applicable</td>\n",
       "      <td>Not Applicable</td>\n",
       "      <td>2009</td>\n",
       "      <td>ACTIVE</td>\n",
       "      <td>HEADOFFICE</td>\n",
       "    </tr>\n",
       "    <tr>\n",
       "      <th>4</th>\n",
       "      <td>1318</td>\n",
       "      <td>12/31/2010 0:00</td>\n",
       "      <td>1/3/1954</td>\n",
       "      <td>8/28/1989</td>\n",
       "      <td>1/1/1900</td>\n",
       "      <td>56</td>\n",
       "      <td>21</td>\n",
       "      <td>Vancouver</td>\n",
       "      <td>Executive</td>\n",
       "      <td>CEO</td>\n",
       "      <td>35</td>\n",
       "      <td>M</td>\n",
       "      <td>Male</td>\n",
       "      <td>Not Applicable</td>\n",
       "      <td>Not Applicable</td>\n",
       "      <td>2010</td>\n",
       "      <td>ACTIVE</td>\n",
       "      <td>HEADOFFICE</td>\n",
       "    </tr>\n",
       "  </tbody>\n",
       "</table>\n",
       "</div>"
      ],
      "text/plain": [
       "   EmployeeID   recorddate_key birthdate_key orighiredate_key  \\\n",
       "0        1318  12/31/2006 0:00      1/3/1954        8/28/1989   \n",
       "1        1318  12/31/2007 0:00      1/3/1954        8/28/1989   \n",
       "2        1318  12/31/2008 0:00      1/3/1954        8/28/1989   \n",
       "3        1318  12/31/2009 0:00      1/3/1954        8/28/1989   \n",
       "4        1318  12/31/2010 0:00      1/3/1954        8/28/1989   \n",
       "\n",
       "  terminationdate_key  age  length_of_service  city_name department_name  \\\n",
       "0            1/1/1900   52                 17  Vancouver       Executive   \n",
       "1            1/1/1900   53                 18  Vancouver       Executive   \n",
       "2            1/1/1900   54                 19  Vancouver       Executive   \n",
       "3            1/1/1900   55                 20  Vancouver       Executive   \n",
       "4            1/1/1900   56                 21  Vancouver       Executive   \n",
       "\n",
       "  job_title  store_name gender_short gender_full termreason_desc  \\\n",
       "0       CEO          35            M        Male  Not Applicable   \n",
       "1       CEO          35            M        Male  Not Applicable   \n",
       "2       CEO          35            M        Male  Not Applicable   \n",
       "3       CEO          35            M        Male  Not Applicable   \n",
       "4       CEO          35            M        Male  Not Applicable   \n",
       "\n",
       "    termtype_desc  STATUS_YEAR  STATUS BUSINESS_UNIT  \n",
       "0  Not Applicable         2006  ACTIVE    HEADOFFICE  \n",
       "1  Not Applicable         2007  ACTIVE    HEADOFFICE  \n",
       "2  Not Applicable         2008  ACTIVE    HEADOFFICE  \n",
       "3  Not Applicable         2009  ACTIVE    HEADOFFICE  \n",
       "4  Not Applicable         2010  ACTIVE    HEADOFFICE  "
      ]
     },
     "execution_count": 5,
     "metadata": {},
     "output_type": "execute_result"
    }
   ],
   "source": [
    "df.head()"
   ]
  },
  {
   "cell_type": "code",
   "execution_count": null,
   "metadata": {
    "colab": {
     "base_uri": "https://localhost:8080/",
     "height": 267
    },
    "id": "NGFbwlODdsoX",
    "outputId": "d231d474-93bf-4624-86d4-dc15c58921fd"
   },
   "outputs": [
    {
     "data": {
      "text/html": [
       "<div>\n",
       "<style scoped>\n",
       "    .dataframe tbody tr th:only-of-type {\n",
       "        vertical-align: middle;\n",
       "    }\n",
       "\n",
       "    .dataframe tbody tr th {\n",
       "        vertical-align: top;\n",
       "    }\n",
       "\n",
       "    .dataframe thead th {\n",
       "        text-align: right;\n",
       "    }\n",
       "</style>\n",
       "<table border=\"1\" class=\"dataframe\">\n",
       "  <thead>\n",
       "    <tr style=\"text-align: right;\">\n",
       "      <th></th>\n",
       "      <th>EmployeeID</th>\n",
       "      <th>recorddate_key</th>\n",
       "      <th>birthdate_key</th>\n",
       "      <th>orighiredate_key</th>\n",
       "      <th>terminationdate_key</th>\n",
       "      <th>age</th>\n",
       "      <th>length_of_service</th>\n",
       "      <th>city_name</th>\n",
       "      <th>department_name</th>\n",
       "      <th>job_title</th>\n",
       "      <th>store_name</th>\n",
       "      <th>gender_short</th>\n",
       "      <th>gender_full</th>\n",
       "      <th>termreason_desc</th>\n",
       "      <th>termtype_desc</th>\n",
       "      <th>STATUS_YEAR</th>\n",
       "      <th>STATUS</th>\n",
       "      <th>BUSINESS_UNIT</th>\n",
       "    </tr>\n",
       "  </thead>\n",
       "  <tbody>\n",
       "    <tr>\n",
       "      <th>49648</th>\n",
       "      <td>8258</td>\n",
       "      <td>12/1/2015 0:00</td>\n",
       "      <td>5/28/1994</td>\n",
       "      <td>8/19/2013</td>\n",
       "      <td>12/30/2015</td>\n",
       "      <td>21</td>\n",
       "      <td>2</td>\n",
       "      <td>Valemount</td>\n",
       "      <td>Dairy</td>\n",
       "      <td>Dairy Person</td>\n",
       "      <td>34</td>\n",
       "      <td>M</td>\n",
       "      <td>Male</td>\n",
       "      <td>Layoff</td>\n",
       "      <td>Involuntary</td>\n",
       "      <td>2015</td>\n",
       "      <td>TERMINATED</td>\n",
       "      <td>STORES</td>\n",
       "    </tr>\n",
       "    <tr>\n",
       "      <th>49649</th>\n",
       "      <td>8264</td>\n",
       "      <td>8/1/2013 0:00</td>\n",
       "      <td>6/13/1994</td>\n",
       "      <td>8/27/2013</td>\n",
       "      <td>8/30/2013</td>\n",
       "      <td>19</td>\n",
       "      <td>0</td>\n",
       "      <td>Vancouver</td>\n",
       "      <td>Customer Service</td>\n",
       "      <td>Cashier</td>\n",
       "      <td>44</td>\n",
       "      <td>F</td>\n",
       "      <td>Female</td>\n",
       "      <td>Resignaton</td>\n",
       "      <td>Voluntary</td>\n",
       "      <td>2013</td>\n",
       "      <td>TERMINATED</td>\n",
       "      <td>STORES</td>\n",
       "    </tr>\n",
       "    <tr>\n",
       "      <th>49650</th>\n",
       "      <td>8279</td>\n",
       "      <td>12/1/2015 0:00</td>\n",
       "      <td>7/18/1994</td>\n",
       "      <td>9/15/2013</td>\n",
       "      <td>12/30/2015</td>\n",
       "      <td>21</td>\n",
       "      <td>2</td>\n",
       "      <td>White Rock</td>\n",
       "      <td>Customer Service</td>\n",
       "      <td>Cashier</td>\n",
       "      <td>39</td>\n",
       "      <td>F</td>\n",
       "      <td>Female</td>\n",
       "      <td>Layoff</td>\n",
       "      <td>Involuntary</td>\n",
       "      <td>2015</td>\n",
       "      <td>TERMINATED</td>\n",
       "      <td>STORES</td>\n",
       "    </tr>\n",
       "    <tr>\n",
       "      <th>49651</th>\n",
       "      <td>8296</td>\n",
       "      <td>12/1/2013 0:00</td>\n",
       "      <td>9/2/1994</td>\n",
       "      <td>10/9/2013</td>\n",
       "      <td>12/31/2013</td>\n",
       "      <td>19</td>\n",
       "      <td>0</td>\n",
       "      <td>Kelowna</td>\n",
       "      <td>Customer Service</td>\n",
       "      <td>Cashier</td>\n",
       "      <td>16</td>\n",
       "      <td>F</td>\n",
       "      <td>Female</td>\n",
       "      <td>Resignaton</td>\n",
       "      <td>Voluntary</td>\n",
       "      <td>2013</td>\n",
       "      <td>TERMINATED</td>\n",
       "      <td>STORES</td>\n",
       "    </tr>\n",
       "    <tr>\n",
       "      <th>49652</th>\n",
       "      <td>8321</td>\n",
       "      <td>12/1/2014 0:00</td>\n",
       "      <td>11/28/1994</td>\n",
       "      <td>11/24/2013</td>\n",
       "      <td>12/30/2014</td>\n",
       "      <td>20</td>\n",
       "      <td>1</td>\n",
       "      <td>Grand Forks</td>\n",
       "      <td>Customer Service</td>\n",
       "      <td>Cashier</td>\n",
       "      <td>13</td>\n",
       "      <td>F</td>\n",
       "      <td>Female</td>\n",
       "      <td>Layoff</td>\n",
       "      <td>Involuntary</td>\n",
       "      <td>2014</td>\n",
       "      <td>TERMINATED</td>\n",
       "      <td>STORES</td>\n",
       "    </tr>\n",
       "  </tbody>\n",
       "</table>\n",
       "</div>"
      ],
      "text/plain": [
       "       EmployeeID  recorddate_key birthdate_key orighiredate_key  \\\n",
       "49648        8258  12/1/2015 0:00     5/28/1994        8/19/2013   \n",
       "49649        8264   8/1/2013 0:00     6/13/1994        8/27/2013   \n",
       "49650        8279  12/1/2015 0:00     7/18/1994        9/15/2013   \n",
       "49651        8296  12/1/2013 0:00      9/2/1994        10/9/2013   \n",
       "49652        8321  12/1/2014 0:00    11/28/1994       11/24/2013   \n",
       "\n",
       "      terminationdate_key  age  length_of_service    city_name  \\\n",
       "49648          12/30/2015   21                  2    Valemount   \n",
       "49649           8/30/2013   19                  0    Vancouver   \n",
       "49650          12/30/2015   21                  2   White Rock   \n",
       "49651          12/31/2013   19                  0      Kelowna   \n",
       "49652          12/30/2014   20                  1  Grand Forks   \n",
       "\n",
       "        department_name     job_title  store_name gender_short gender_full  \\\n",
       "49648             Dairy  Dairy Person          34            M        Male   \n",
       "49649  Customer Service       Cashier          44            F      Female   \n",
       "49650  Customer Service       Cashier          39            F      Female   \n",
       "49651  Customer Service       Cashier          16            F      Female   \n",
       "49652  Customer Service       Cashier          13            F      Female   \n",
       "\n",
       "      termreason_desc termtype_desc  STATUS_YEAR      STATUS BUSINESS_UNIT  \n",
       "49648          Layoff   Involuntary         2015  TERMINATED        STORES  \n",
       "49649      Resignaton     Voluntary         2013  TERMINATED        STORES  \n",
       "49650          Layoff   Involuntary         2015  TERMINATED        STORES  \n",
       "49651      Resignaton     Voluntary         2013  TERMINATED        STORES  \n",
       "49652          Layoff   Involuntary         2014  TERMINATED        STORES  "
      ]
     },
     "execution_count": 49,
     "metadata": {
      "tags": []
     },
     "output_type": "execute_result"
    }
   ],
   "source": [
    "df.tail()"
   ]
  },
  {
   "cell_type": "markdown",
   "metadata": {
    "id": "xF6HM872n4r_"
   },
   "source": [
    "# Accessing the main DataFrame components"
   ]
  },
  {
   "cell_type": "code",
   "execution_count": null,
   "metadata": {
    "id": "Mdr1r8Vjn8MW"
   },
   "outputs": [],
   "source": [
    "columns = df.columns\n",
    "index = df.index\n",
    "data = df.values"
   ]
  },
  {
   "cell_type": "code",
   "execution_count": null,
   "metadata": {
    "colab": {
     "base_uri": "https://localhost:8080/",
     "height": 122
    },
    "id": "ZswvXsbSoC_Z",
    "outputId": "6a6b6066-d50b-4c3e-ca09-bae0246fb433"
   },
   "outputs": [
    {
     "data": {
      "text/plain": [
       "Index(['EmployeeID', 'recorddate_key', 'birthdate_key', 'orighiredate_key',\n",
       "       'terminationdate_key', 'age', 'length_of_service', 'city_name',\n",
       "       'department_name', 'job_title', 'store_name', 'gender_short',\n",
       "       'gender_full', 'termreason_desc', 'termtype_desc', 'STATUS_YEAR',\n",
       "       'STATUS', 'BUSINESS_UNIT'],\n",
       "      dtype='object')"
      ]
     },
     "execution_count": 51,
     "metadata": {
      "tags": []
     },
     "output_type": "execute_result"
    }
   ],
   "source": [
    "columns"
   ]
  },
  {
   "cell_type": "code",
   "execution_count": null,
   "metadata": {
    "colab": {
     "base_uri": "https://localhost:8080/",
     "height": 34
    },
    "id": "GLo6QO7BoEmP",
    "outputId": "ddf0f9db-401a-47e7-e377-0f3ade524cc6"
   },
   "outputs": [
    {
     "data": {
      "text/plain": [
       "RangeIndex(start=0, stop=49653, step=1)"
      ]
     },
     "execution_count": 52,
     "metadata": {
      "tags": []
     },
     "output_type": "execute_result"
    }
   ],
   "source": [
    "index"
   ]
  },
  {
   "cell_type": "code",
   "execution_count": null,
   "metadata": {
    "colab": {
     "base_uri": "https://localhost:8080/",
     "height": 244
    },
    "id": "DOiXYBceoGPn",
    "outputId": "ce9555f7-b6c5-4f88-89e7-79cb6930138a"
   },
   "outputs": [
    {
     "data": {
      "text/plain": [
       "array([[1318, '12/31/2006 0:00', '1/3/1954', ..., 2006, 'ACTIVE',\n",
       "        'HEADOFFICE'],\n",
       "       [1318, '12/31/2007 0:00', '1/3/1954', ..., 2007, 'ACTIVE',\n",
       "        'HEADOFFICE'],\n",
       "       [1318, '12/31/2008 0:00', '1/3/1954', ..., 2008, 'ACTIVE',\n",
       "        'HEADOFFICE'],\n",
       "       ...,\n",
       "       [8279, '12/1/2015 0:00', '7/18/1994', ..., 2015, 'TERMINATED',\n",
       "        'STORES'],\n",
       "       [8296, '12/1/2013 0:00', '9/2/1994', ..., 2013, 'TERMINATED',\n",
       "        'STORES'],\n",
       "       [8321, '12/1/2014 0:00', '11/28/1994', ..., 2014, 'TERMINATED',\n",
       "        'STORES']], dtype=object)"
      ]
     },
     "execution_count": 53,
     "metadata": {
      "tags": []
     },
     "output_type": "execute_result"
    }
   ],
   "source": [
    "data"
   ]
  },
  {
   "cell_type": "markdown",
   "metadata": {
    "id": "3fec-2AUoPmk"
   },
   "source": [
    "# 1. Understanding Data Types"
   ]
  },
  {
   "cell_type": "markdown",
   "metadata": {
    "id": "TxadHP_NtXbK"
   },
   "source": [
    "#### 1.A Find Shape of Data Frame"
   ]
  },
  {
   "cell_type": "code",
   "execution_count": 8,
   "metadata": {},
   "outputs": [
    {
     "data": {
      "text/plain": [
       "(49653, 18)"
      ]
     },
     "execution_count": 8,
     "metadata": {},
     "output_type": "execute_result"
    }
   ],
   "source": [
    "df.shape"
   ]
  },
  {
   "cell_type": "markdown",
   "metadata": {
    "id": "oJX-CGXvuvR7"
   },
   "source": [
    "#### 1.B Find Data Tyeps of Data Frame"
   ]
  },
  {
   "cell_type": "code",
   "execution_count": 11,
   "metadata": {
    "id": "9-jcxa4JoUaF"
   },
   "outputs": [
    {
     "data": {
      "text/plain": [
       "EmployeeID              int64\n",
       "recorddate_key         object\n",
       "birthdate_key          object\n",
       "orighiredate_key       object\n",
       "terminationdate_key    object\n",
       "age                     int64\n",
       "length_of_service       int64\n",
       "city_name              object\n",
       "department_name        object\n",
       "job_title              object\n",
       "store_name              int64\n",
       "gender_short           object\n",
       "gender_full            object\n",
       "termreason_desc        object\n",
       "termtype_desc          object\n",
       "STATUS_YEAR             int64\n",
       "STATUS                 object\n",
       "BUSINESS_UNIT          object\n",
       "dtype: object"
      ]
     },
     "execution_count": 11,
     "metadata": {},
     "output_type": "execute_result"
    }
   ],
   "source": [
    "df.dtypes"
   ]
  },
  {
   "cell_type": "markdown",
   "metadata": {
    "id": "F84ZM4giu3uX"
   },
   "source": [
    "#### 1.C Find Number of Data Types in a Data Frame\n",
    "\n",
    "\n",
    "\n",
    "```\n",
    "Expected Output:\n",
    "int64      5\n",
    "object    13\n",
    "dtype: int64\n",
    "```\n",
    "\n"
   ]
  },
  {
   "cell_type": "code",
   "execution_count": 13,
   "metadata": {},
   "outputs": [
    {
     "data": {
      "text/plain": [
       "object    13\n",
       "int64      5\n",
       "dtype: int64"
      ]
     },
     "execution_count": 13,
     "metadata": {},
     "output_type": "execute_result"
    }
   ],
   "source": [
    "df.dtypes.value_counts()"
   ]
  },
  {
   "cell_type": "markdown",
   "metadata": {
    "id": "1yyNZ1HIvGVp"
   },
   "source": [
    "#### 1.D Use Info\n",
    "\n",
    "Use info and explore difference."
   ]
  },
  {
   "cell_type": "code",
   "execution_count": 15,
   "metadata": {
    "id": "br45XLTVoXsv"
   },
   "outputs": [
    {
     "name": "stdout",
     "output_type": "stream",
     "text": [
      "<class 'pandas.core.frame.DataFrame'>\n",
      "RangeIndex: 49653 entries, 0 to 49652\n",
      "Data columns (total 18 columns):\n",
      " #   Column               Non-Null Count  Dtype \n",
      "---  ------               --------------  ----- \n",
      " 0   EmployeeID           49653 non-null  int64 \n",
      " 1   recorddate_key       49653 non-null  object\n",
      " 2   birthdate_key        49653 non-null  object\n",
      " 3   orighiredate_key     49653 non-null  object\n",
      " 4   terminationdate_key  49653 non-null  object\n",
      " 5   age                  49653 non-null  int64 \n",
      " 6   length_of_service    49653 non-null  int64 \n",
      " 7   city_name            49653 non-null  object\n",
      " 8   department_name      49653 non-null  object\n",
      " 9   job_title            49653 non-null  object\n",
      " 10  store_name           49653 non-null  int64 \n",
      " 11  gender_short         49653 non-null  object\n",
      " 12  gender_full          49653 non-null  object\n",
      " 13  termreason_desc      49653 non-null  object\n",
      " 14  termtype_desc        49653 non-null  object\n",
      " 15  STATUS_YEAR          49653 non-null  int64 \n",
      " 16  STATUS               49653 non-null  object\n",
      " 17  BUSINESS_UNIT        49653 non-null  object\n",
      "dtypes: int64(5), object(13)\n",
      "memory usage: 6.8+ MB\n"
     ]
    }
   ],
   "source": [
    "df.info()"
   ]
  },
  {
   "cell_type": "markdown",
   "metadata": {
    "id": "aFVlzHmwolwU"
   },
   "source": [
    "# 2. Selecting Column in Data Frame"
   ]
  },
  {
   "cell_type": "markdown",
   "metadata": {
    "id": "MHa557TsvdoP"
   },
   "source": [
    "#### 2.A Check Values of Job_Title column"
   ]
  },
  {
   "cell_type": "code",
   "execution_count": 20,
   "metadata": {
    "id": "qAv8nIvnopMN"
   },
   "outputs": [
    {
     "data": {
      "text/plain": [
       "0                 CEO\n",
       "1                 CEO\n",
       "2                 CEO\n",
       "3                 CEO\n",
       "4                 CEO\n",
       "             ...     \n",
       "49648    Dairy Person\n",
       "49649         Cashier\n",
       "49650         Cashier\n",
       "49651         Cashier\n",
       "49652         Cashier\n",
       "Name: job_title, Length: 49653, dtype: object"
      ]
     },
     "execution_count": 20,
     "metadata": {},
     "output_type": "execute_result"
    }
   ],
   "source": [
    "df['job_title']"
   ]
  },
  {
   "cell_type": "markdown",
   "metadata": {
    "id": "ZGrf6tiRvn8F"
   },
   "source": [
    "#### 2.B Find How Many Rows Are in Each Job Title\n",
    "\n",
    "\n",
    "\n",
    "```\n",
    "# Expected Output\n",
    "Meat Cutter                        9984\n",
    "Dairy Person                       8590\n",
    "Produce Clerk                      8237\n",
    ".\n",
    ".\n",
    ".\n",
    "```\n",
    "\n"
   ]
  },
  {
   "cell_type": "code",
   "execution_count": 21,
   "metadata": {
    "id": "J1oPyGUxpYv4"
   },
   "outputs": [
    {
     "data": {
      "text/plain": [
       "Meat Cutter                        9984\n",
       "Dairy Person                       8590\n",
       "Produce Clerk                      8237\n",
       "Baker                              8096\n",
       "Cashier                            6816\n",
       "Shelf Stocker                      5622\n",
       "Customer Service Manager            306\n",
       "Processed Foods Manager             289\n",
       "Bakery Manager                      285\n",
       "Meats Manager                       285\n",
       "Produce Manager                     278\n",
       "Store Manager                       271\n",
       "Recruiter                            62\n",
       "HRIS Analyst                         55\n",
       "Accounting Clerk                     50\n",
       "Benefits Admin                       35\n",
       "Labor Relations Analyst              30\n",
       "Accounts Receiveable Clerk           30\n",
       "Trainer                              26\n",
       "Accounts Payable Clerk               25\n",
       "Auditor                              20\n",
       "Systems Analyst                      20\n",
       "Investment Analyst                   20\n",
       "Compensation Analyst                 20\n",
       "Corporate Lawyer                     17\n",
       "CEO                                  10\n",
       "Exec Assistant, VP Stores            10\n",
       "Legal Counsel                        10\n",
       "VP Stores                            10\n",
       "VP Human Resources                   10\n",
       "VP Finance                           10\n",
       "Director, Recruitment                10\n",
       "Exec Assistant, Finance              10\n",
       "Exec Assistant, Human Resources      10\n",
       "CHief Information Officer            10\n",
       "Exec Assistant, Legal Counsel        10\n",
       "Director, Accounts Payable            9\n",
       "Director, Accounts Receivable         9\n",
       "Director, Employee Records            9\n",
       "Director, HR Technology               9\n",
       "Dairy Manager                         9\n",
       "Director, Accounting                  9\n",
       "Director, Investments                 4\n",
       "Director, Labor Relations             4\n",
       "Director, Compensation                4\n",
       "Director, Audit                       4\n",
       "Director, Training                    4\n",
       "Name: job_title, dtype: int64"
      ]
     },
     "execution_count": 21,
     "metadata": {},
     "output_type": "execute_result"
    }
   ],
   "source": [
    "job_title = df['job_title']\n",
    "job_title.value_counts()"
   ]
  },
  {
   "cell_type": "markdown",
   "metadata": {
    "id": "iGAFnYElwAnu"
   },
   "source": [
    "#### 2.C [BONUS] Write A Function to Row Count\n",
    "\n",
    "\n",
    "\n",
    "```\n",
    "def row_count(column_name):\n",
    "    number_of_rows = 0\n",
    "    return number_of_rows\n",
    "```\n",
    "\n"
   ]
  },
  {
   "cell_type": "code",
   "execution_count": 22,
   "metadata": {},
   "outputs": [
    {
     "data": {
      "text/plain": [
       "49653"
      ]
     },
     "execution_count": 22,
     "metadata": {},
     "output_type": "execute_result"
    }
   ],
   "source": [
    "len(df.index)"
   ]
  },
  {
   "cell_type": "markdown",
   "metadata": {
    "id": "unrVvLl1wjxg"
   },
   "source": [
    "#### 2.D Describe 'Age'\n",
    "\n",
    "Find count,  mean,  std, min, max of column 'age'"
   ]
  },
  {
   "cell_type": "code",
   "execution_count": 29,
   "metadata": {
    "id": "DGk18B54p1Lm"
   },
   "outputs": [
    {
     "data": {
      "text/plain": [
       "count    49653.000000\n",
       "mean        42.077035\n",
       "std         12.427257\n",
       "min         19.000000\n",
       "25%         31.000000\n",
       "50%         42.000000\n",
       "75%         53.000000\n",
       "max         65.000000\n",
       "Name: age, dtype: float64"
      ]
     },
     "execution_count": 29,
     "metadata": {},
     "output_type": "execute_result"
    }
   ],
   "source": [
    "age = df['age']\n",
    "age.describe()"
   ]
  },
  {
   "cell_type": "markdown",
   "metadata": {
    "id": "WStkVqlZw6ZP"
   },
   "source": [
    "##### 2.E [BONUS] Describe 'All Numeric Columns of Data Frame\n",
    "\n",
    "Find count, mean, std, min, max of of all columns of dataframe"
   ]
  },
  {
   "cell_type": "code",
   "execution_count": 30,
   "metadata": {
    "id": "zatP7XTYdsoZ"
   },
   "outputs": [
    {
     "data": {
      "text/html": [
       "<div>\n",
       "<style scoped>\n",
       "    .dataframe tbody tr th:only-of-type {\n",
       "        vertical-align: middle;\n",
       "    }\n",
       "\n",
       "    .dataframe tbody tr th {\n",
       "        vertical-align: top;\n",
       "    }\n",
       "\n",
       "    .dataframe thead th {\n",
       "        text-align: right;\n",
       "    }\n",
       "</style>\n",
       "<table border=\"1\" class=\"dataframe\">\n",
       "  <thead>\n",
       "    <tr style=\"text-align: right;\">\n",
       "      <th></th>\n",
       "      <th>EmployeeID</th>\n",
       "      <th>age</th>\n",
       "      <th>length_of_service</th>\n",
       "      <th>store_name</th>\n",
       "      <th>STATUS_YEAR</th>\n",
       "    </tr>\n",
       "  </thead>\n",
       "  <tbody>\n",
       "    <tr>\n",
       "      <th>count</th>\n",
       "      <td>49653.000000</td>\n",
       "      <td>49653.000000</td>\n",
       "      <td>49653.000000</td>\n",
       "      <td>49653.000000</td>\n",
       "      <td>49653.000000</td>\n",
       "    </tr>\n",
       "    <tr>\n",
       "      <th>mean</th>\n",
       "      <td>4859.495740</td>\n",
       "      <td>42.077035</td>\n",
       "      <td>10.434596</td>\n",
       "      <td>27.297605</td>\n",
       "      <td>2010.612612</td>\n",
       "    </tr>\n",
       "    <tr>\n",
       "      <th>std</th>\n",
       "      <td>1826.571142</td>\n",
       "      <td>12.427257</td>\n",
       "      <td>6.325286</td>\n",
       "      <td>13.514134</td>\n",
       "      <td>2.845577</td>\n",
       "    </tr>\n",
       "    <tr>\n",
       "      <th>min</th>\n",
       "      <td>1318.000000</td>\n",
       "      <td>19.000000</td>\n",
       "      <td>0.000000</td>\n",
       "      <td>1.000000</td>\n",
       "      <td>2006.000000</td>\n",
       "    </tr>\n",
       "    <tr>\n",
       "      <th>25%</th>\n",
       "      <td>3360.000000</td>\n",
       "      <td>31.000000</td>\n",
       "      <td>5.000000</td>\n",
       "      <td>16.000000</td>\n",
       "      <td>2008.000000</td>\n",
       "    </tr>\n",
       "    <tr>\n",
       "      <th>50%</th>\n",
       "      <td>5031.000000</td>\n",
       "      <td>42.000000</td>\n",
       "      <td>10.000000</td>\n",
       "      <td>28.000000</td>\n",
       "      <td>2011.000000</td>\n",
       "    </tr>\n",
       "    <tr>\n",
       "      <th>75%</th>\n",
       "      <td>6335.000000</td>\n",
       "      <td>53.000000</td>\n",
       "      <td>15.000000</td>\n",
       "      <td>42.000000</td>\n",
       "      <td>2013.000000</td>\n",
       "    </tr>\n",
       "    <tr>\n",
       "      <th>max</th>\n",
       "      <td>8336.000000</td>\n",
       "      <td>65.000000</td>\n",
       "      <td>26.000000</td>\n",
       "      <td>46.000000</td>\n",
       "      <td>2015.000000</td>\n",
       "    </tr>\n",
       "  </tbody>\n",
       "</table>\n",
       "</div>"
      ],
      "text/plain": [
       "         EmployeeID           age  length_of_service    store_name  \\\n",
       "count  49653.000000  49653.000000       49653.000000  49653.000000   \n",
       "mean    4859.495740     42.077035          10.434596     27.297605   \n",
       "std     1826.571142     12.427257           6.325286     13.514134   \n",
       "min     1318.000000     19.000000           0.000000      1.000000   \n",
       "25%     3360.000000     31.000000           5.000000     16.000000   \n",
       "50%     5031.000000     42.000000          10.000000     28.000000   \n",
       "75%     6335.000000     53.000000          15.000000     42.000000   \n",
       "max     8336.000000     65.000000          26.000000     46.000000   \n",
       "\n",
       "        STATUS_YEAR  \n",
       "count  49653.000000  \n",
       "mean    2010.612612  \n",
       "std        2.845577  \n",
       "min     2006.000000  \n",
       "25%     2008.000000  \n",
       "50%     2011.000000  \n",
       "75%     2013.000000  \n",
       "max     2015.000000  "
      ]
     },
     "execution_count": 30,
     "metadata": {},
     "output_type": "execute_result"
    }
   ],
   "source": [
    "df.describe()"
   ]
  },
  {
   "cell_type": "markdown",
   "metadata": {
    "id": "5QjPfOf5sE_T"
   },
   "source": [
    "# 3. Making The Index Meaningful"
   ]
  },
  {
   "cell_type": "code",
   "execution_count": 31,
   "metadata": {},
   "outputs": [],
   "source": [
    "df.set_index(\"EmployeeID\", inplace=True)"
   ]
  },
  {
   "cell_type": "code",
   "execution_count": 32,
   "metadata": {},
   "outputs": [
    {
     "name": "stdout",
     "output_type": "stream",
     "text": [
      "Int64Index([1318, 1318, 1318, 1318, 1318, 1318, 1318, 1318, 1318, 1318,\n",
      "            ...\n",
      "            8188, 8214, 8223, 8226, 8231, 8258, 8264, 8279, 8296, 8321],\n",
      "           dtype='int64', name='EmployeeID', length=49653)\n"
     ]
    }
   ],
   "source": [
    "print(df.index)"
   ]
  },
  {
   "cell_type": "markdown",
   "metadata": {
    "id": "gvP4e-sMxUa_"
   },
   "source": [
    "#### 3.A Find A Specifc Row Using Index"
   ]
  },
  {
   "cell_type": "code",
   "execution_count": 34,
   "metadata": {
    "id": "vpaI3UKndsof"
   },
   "outputs": [
    {
     "name": "stdout",
     "output_type": "stream",
     "text": [
      "df.loc[\"1\"]              recorddate_key birthdate_key orighiredate_key  \\\n",
      "EmployeeID                                                   \n",
      "8200        12/31/2013 0:00    11/13/1993         5/7/2013   \n",
      "8200        12/31/2014 0:00    11/13/1993         5/7/2013   \n",
      "8200        12/31/2015 0:00    11/13/1993         5/7/2013   \n",
      "\n",
      "           terminationdate_key  age  length_of_service city_name  \\\n",
      "EmployeeID                                                         \n",
      "8200                  1/1/1900   20                  0    Surrey   \n",
      "8200                  1/1/1900   21                  1    Surrey   \n",
      "8200                  1/1/1900   22                  2    Surrey   \n",
      "\n",
      "             department_name job_title  store_name gender_short gender_full  \\\n",
      "EmployeeID                                                                    \n",
      "8200        Customer Service   Cashier          31            M        Male   \n",
      "8200        Customer Service   Cashier          31            M        Male   \n",
      "8200        Customer Service   Cashier          31            M        Male   \n",
      "\n",
      "           termreason_desc   termtype_desc  STATUS_YEAR  STATUS BUSINESS_UNIT  \n",
      "EmployeeID                                                                     \n",
      "8200        Not Applicable  Not Applicable         2013  ACTIVE        STORES  \n",
      "8200        Not Applicable  Not Applicable         2014  ACTIVE        STORES  \n",
      "8200        Not Applicable  Not Applicable         2015  ACTIVE        STORES  \n"
     ]
    }
   ],
   "source": [
    "print('df.loc[\"1\"]', df.loc[8200])"
   ]
  },
  {
   "cell_type": "markdown",
   "metadata": {
    "id": "PYE7wF1xxtUr"
   },
   "source": [
    "#### 3.B Sort Data Frame using Index"
   ]
  },
  {
   "cell_type": "code",
   "execution_count": 37,
   "metadata": {
    "id": "qjhgMeUmdsoj"
   },
   "outputs": [
    {
     "data": {
      "text/html": [
       "<div>\n",
       "<style scoped>\n",
       "    .dataframe tbody tr th:only-of-type {\n",
       "        vertical-align: middle;\n",
       "    }\n",
       "\n",
       "    .dataframe tbody tr th {\n",
       "        vertical-align: top;\n",
       "    }\n",
       "\n",
       "    .dataframe thead th {\n",
       "        text-align: right;\n",
       "    }\n",
       "</style>\n",
       "<table border=\"1\" class=\"dataframe\">\n",
       "  <thead>\n",
       "    <tr style=\"text-align: right;\">\n",
       "      <th></th>\n",
       "      <th>recorddate_key</th>\n",
       "      <th>birthdate_key</th>\n",
       "      <th>orighiredate_key</th>\n",
       "      <th>terminationdate_key</th>\n",
       "      <th>age</th>\n",
       "      <th>length_of_service</th>\n",
       "      <th>city_name</th>\n",
       "      <th>department_name</th>\n",
       "      <th>job_title</th>\n",
       "      <th>store_name</th>\n",
       "      <th>gender_short</th>\n",
       "      <th>gender_full</th>\n",
       "      <th>termreason_desc</th>\n",
       "      <th>termtype_desc</th>\n",
       "      <th>STATUS_YEAR</th>\n",
       "      <th>STATUS</th>\n",
       "      <th>BUSINESS_UNIT</th>\n",
       "    </tr>\n",
       "    <tr>\n",
       "      <th>EmployeeID</th>\n",
       "      <th></th>\n",
       "      <th></th>\n",
       "      <th></th>\n",
       "      <th></th>\n",
       "      <th></th>\n",
       "      <th></th>\n",
       "      <th></th>\n",
       "      <th></th>\n",
       "      <th></th>\n",
       "      <th></th>\n",
       "      <th></th>\n",
       "      <th></th>\n",
       "      <th></th>\n",
       "      <th></th>\n",
       "      <th></th>\n",
       "      <th></th>\n",
       "      <th></th>\n",
       "    </tr>\n",
       "  </thead>\n",
       "  <tbody>\n",
       "    <tr>\n",
       "      <th>1318</th>\n",
       "      <td>12/31/2006 0:00</td>\n",
       "      <td>1/3/1954</td>\n",
       "      <td>8/28/1989</td>\n",
       "      <td>1/1/1900</td>\n",
       "      <td>52</td>\n",
       "      <td>17</td>\n",
       "      <td>Vancouver</td>\n",
       "      <td>Executive</td>\n",
       "      <td>CEO</td>\n",
       "      <td>35</td>\n",
       "      <td>M</td>\n",
       "      <td>Male</td>\n",
       "      <td>Not Applicable</td>\n",
       "      <td>Not Applicable</td>\n",
       "      <td>2006</td>\n",
       "      <td>ACTIVE</td>\n",
       "      <td>HEADOFFICE</td>\n",
       "    </tr>\n",
       "    <tr>\n",
       "      <th>1318</th>\n",
       "      <td>12/31/2007 0:00</td>\n",
       "      <td>1/3/1954</td>\n",
       "      <td>8/28/1989</td>\n",
       "      <td>1/1/1900</td>\n",
       "      <td>53</td>\n",
       "      <td>18</td>\n",
       "      <td>Vancouver</td>\n",
       "      <td>Executive</td>\n",
       "      <td>CEO</td>\n",
       "      <td>35</td>\n",
       "      <td>M</td>\n",
       "      <td>Male</td>\n",
       "      <td>Not Applicable</td>\n",
       "      <td>Not Applicable</td>\n",
       "      <td>2007</td>\n",
       "      <td>ACTIVE</td>\n",
       "      <td>HEADOFFICE</td>\n",
       "    </tr>\n",
       "    <tr>\n",
       "      <th>1318</th>\n",
       "      <td>12/31/2008 0:00</td>\n",
       "      <td>1/3/1954</td>\n",
       "      <td>8/28/1989</td>\n",
       "      <td>1/1/1900</td>\n",
       "      <td>54</td>\n",
       "      <td>19</td>\n",
       "      <td>Vancouver</td>\n",
       "      <td>Executive</td>\n",
       "      <td>CEO</td>\n",
       "      <td>35</td>\n",
       "      <td>M</td>\n",
       "      <td>Male</td>\n",
       "      <td>Not Applicable</td>\n",
       "      <td>Not Applicable</td>\n",
       "      <td>2008</td>\n",
       "      <td>ACTIVE</td>\n",
       "      <td>HEADOFFICE</td>\n",
       "    </tr>\n",
       "    <tr>\n",
       "      <th>1318</th>\n",
       "      <td>12/31/2009 0:00</td>\n",
       "      <td>1/3/1954</td>\n",
       "      <td>8/28/1989</td>\n",
       "      <td>1/1/1900</td>\n",
       "      <td>55</td>\n",
       "      <td>20</td>\n",
       "      <td>Vancouver</td>\n",
       "      <td>Executive</td>\n",
       "      <td>CEO</td>\n",
       "      <td>35</td>\n",
       "      <td>M</td>\n",
       "      <td>Male</td>\n",
       "      <td>Not Applicable</td>\n",
       "      <td>Not Applicable</td>\n",
       "      <td>2009</td>\n",
       "      <td>ACTIVE</td>\n",
       "      <td>HEADOFFICE</td>\n",
       "    </tr>\n",
       "    <tr>\n",
       "      <th>1318</th>\n",
       "      <td>12/31/2010 0:00</td>\n",
       "      <td>1/3/1954</td>\n",
       "      <td>8/28/1989</td>\n",
       "      <td>1/1/1900</td>\n",
       "      <td>56</td>\n",
       "      <td>21</td>\n",
       "      <td>Vancouver</td>\n",
       "      <td>Executive</td>\n",
       "      <td>CEO</td>\n",
       "      <td>35</td>\n",
       "      <td>M</td>\n",
       "      <td>Male</td>\n",
       "      <td>Not Applicable</td>\n",
       "      <td>Not Applicable</td>\n",
       "      <td>2010</td>\n",
       "      <td>ACTIVE</td>\n",
       "      <td>HEADOFFICE</td>\n",
       "    </tr>\n",
       "    <tr>\n",
       "      <th>...</th>\n",
       "      <td>...</td>\n",
       "      <td>...</td>\n",
       "      <td>...</td>\n",
       "      <td>...</td>\n",
       "      <td>...</td>\n",
       "      <td>...</td>\n",
       "      <td>...</td>\n",
       "      <td>...</td>\n",
       "      <td>...</td>\n",
       "      <td>...</td>\n",
       "      <td>...</td>\n",
       "      <td>...</td>\n",
       "      <td>...</td>\n",
       "      <td>...</td>\n",
       "      <td>...</td>\n",
       "      <td>...</td>\n",
       "      <td>...</td>\n",
       "    </tr>\n",
       "    <tr>\n",
       "      <th>8335</th>\n",
       "      <td>12/31/2013 0:00</td>\n",
       "      <td>12/28/1994</td>\n",
       "      <td>12/10/2013</td>\n",
       "      <td>1/1/1900</td>\n",
       "      <td>19</td>\n",
       "      <td>0</td>\n",
       "      <td>Vancouver</td>\n",
       "      <td>Dairy</td>\n",
       "      <td>Dairy Person</td>\n",
       "      <td>35</td>\n",
       "      <td>F</td>\n",
       "      <td>Female</td>\n",
       "      <td>Not Applicable</td>\n",
       "      <td>Not Applicable</td>\n",
       "      <td>2013</td>\n",
       "      <td>ACTIVE</td>\n",
       "      <td>STORES</td>\n",
       "    </tr>\n",
       "    <tr>\n",
       "      <th>8335</th>\n",
       "      <td>12/31/2015 0:00</td>\n",
       "      <td>12/28/1994</td>\n",
       "      <td>12/10/2013</td>\n",
       "      <td>1/1/1900</td>\n",
       "      <td>21</td>\n",
       "      <td>2</td>\n",
       "      <td>Vancouver</td>\n",
       "      <td>Dairy</td>\n",
       "      <td>Dairy Person</td>\n",
       "      <td>35</td>\n",
       "      <td>F</td>\n",
       "      <td>Female</td>\n",
       "      <td>Not Applicable</td>\n",
       "      <td>Not Applicable</td>\n",
       "      <td>2015</td>\n",
       "      <td>ACTIVE</td>\n",
       "      <td>STORES</td>\n",
       "    </tr>\n",
       "    <tr>\n",
       "      <th>8336</th>\n",
       "      <td>12/31/2015 0:00</td>\n",
       "      <td>12/31/1994</td>\n",
       "      <td>12/11/2013</td>\n",
       "      <td>1/1/1900</td>\n",
       "      <td>21</td>\n",
       "      <td>2</td>\n",
       "      <td>Vancouver</td>\n",
       "      <td>Dairy</td>\n",
       "      <td>Dairy Person</td>\n",
       "      <td>35</td>\n",
       "      <td>M</td>\n",
       "      <td>Male</td>\n",
       "      <td>Not Applicable</td>\n",
       "      <td>Not Applicable</td>\n",
       "      <td>2015</td>\n",
       "      <td>ACTIVE</td>\n",
       "      <td>STORES</td>\n",
       "    </tr>\n",
       "    <tr>\n",
       "      <th>8336</th>\n",
       "      <td>12/31/2013 0:00</td>\n",
       "      <td>12/31/1994</td>\n",
       "      <td>12/11/2013</td>\n",
       "      <td>1/1/1900</td>\n",
       "      <td>19</td>\n",
       "      <td>0</td>\n",
       "      <td>Vancouver</td>\n",
       "      <td>Dairy</td>\n",
       "      <td>Dairy Person</td>\n",
       "      <td>35</td>\n",
       "      <td>M</td>\n",
       "      <td>Male</td>\n",
       "      <td>Not Applicable</td>\n",
       "      <td>Not Applicable</td>\n",
       "      <td>2013</td>\n",
       "      <td>ACTIVE</td>\n",
       "      <td>STORES</td>\n",
       "    </tr>\n",
       "    <tr>\n",
       "      <th>8336</th>\n",
       "      <td>12/31/2014 0:00</td>\n",
       "      <td>12/31/1994</td>\n",
       "      <td>12/11/2013</td>\n",
       "      <td>1/1/1900</td>\n",
       "      <td>20</td>\n",
       "      <td>1</td>\n",
       "      <td>Vancouver</td>\n",
       "      <td>Dairy</td>\n",
       "      <td>Dairy Person</td>\n",
       "      <td>35</td>\n",
       "      <td>M</td>\n",
       "      <td>Male</td>\n",
       "      <td>Not Applicable</td>\n",
       "      <td>Not Applicable</td>\n",
       "      <td>2014</td>\n",
       "      <td>ACTIVE</td>\n",
       "      <td>STORES</td>\n",
       "    </tr>\n",
       "  </tbody>\n",
       "</table>\n",
       "<p>49653 rows × 17 columns</p>\n",
       "</div>"
      ],
      "text/plain": [
       "             recorddate_key birthdate_key orighiredate_key  \\\n",
       "EmployeeID                                                   \n",
       "1318        12/31/2006 0:00      1/3/1954        8/28/1989   \n",
       "1318        12/31/2007 0:00      1/3/1954        8/28/1989   \n",
       "1318        12/31/2008 0:00      1/3/1954        8/28/1989   \n",
       "1318        12/31/2009 0:00      1/3/1954        8/28/1989   \n",
       "1318        12/31/2010 0:00      1/3/1954        8/28/1989   \n",
       "...                     ...           ...              ...   \n",
       "8335        12/31/2013 0:00    12/28/1994       12/10/2013   \n",
       "8335        12/31/2015 0:00    12/28/1994       12/10/2013   \n",
       "8336        12/31/2015 0:00    12/31/1994       12/11/2013   \n",
       "8336        12/31/2013 0:00    12/31/1994       12/11/2013   \n",
       "8336        12/31/2014 0:00    12/31/1994       12/11/2013   \n",
       "\n",
       "           terminationdate_key  age  length_of_service  city_name  \\\n",
       "EmployeeID                                                          \n",
       "1318                  1/1/1900   52                 17  Vancouver   \n",
       "1318                  1/1/1900   53                 18  Vancouver   \n",
       "1318                  1/1/1900   54                 19  Vancouver   \n",
       "1318                  1/1/1900   55                 20  Vancouver   \n",
       "1318                  1/1/1900   56                 21  Vancouver   \n",
       "...                        ...  ...                ...        ...   \n",
       "8335                  1/1/1900   19                  0  Vancouver   \n",
       "8335                  1/1/1900   21                  2  Vancouver   \n",
       "8336                  1/1/1900   21                  2  Vancouver   \n",
       "8336                  1/1/1900   19                  0  Vancouver   \n",
       "8336                  1/1/1900   20                  1  Vancouver   \n",
       "\n",
       "           department_name     job_title  store_name gender_short gender_full  \\\n",
       "EmployeeID                                                                      \n",
       "1318             Executive           CEO          35            M        Male   \n",
       "1318             Executive           CEO          35            M        Male   \n",
       "1318             Executive           CEO          35            M        Male   \n",
       "1318             Executive           CEO          35            M        Male   \n",
       "1318             Executive           CEO          35            M        Male   \n",
       "...                    ...           ...         ...          ...         ...   \n",
       "8335                 Dairy  Dairy Person          35            F      Female   \n",
       "8335                 Dairy  Dairy Person          35            F      Female   \n",
       "8336                 Dairy  Dairy Person          35            M        Male   \n",
       "8336                 Dairy  Dairy Person          35            M        Male   \n",
       "8336                 Dairy  Dairy Person          35            M        Male   \n",
       "\n",
       "           termreason_desc   termtype_desc  STATUS_YEAR  STATUS BUSINESS_UNIT  \n",
       "EmployeeID                                                                     \n",
       "1318        Not Applicable  Not Applicable         2006  ACTIVE    HEADOFFICE  \n",
       "1318        Not Applicable  Not Applicable         2007  ACTIVE    HEADOFFICE  \n",
       "1318        Not Applicable  Not Applicable         2008  ACTIVE    HEADOFFICE  \n",
       "1318        Not Applicable  Not Applicable         2009  ACTIVE    HEADOFFICE  \n",
       "1318        Not Applicable  Not Applicable         2010  ACTIVE    HEADOFFICE  \n",
       "...                    ...             ...          ...     ...           ...  \n",
       "8335        Not Applicable  Not Applicable         2013  ACTIVE        STORES  \n",
       "8335        Not Applicable  Not Applicable         2015  ACTIVE        STORES  \n",
       "8336        Not Applicable  Not Applicable         2015  ACTIVE        STORES  \n",
       "8336        Not Applicable  Not Applicable         2013  ACTIVE        STORES  \n",
       "8336        Not Applicable  Not Applicable         2014  ACTIVE        STORES  \n",
       "\n",
       "[49653 rows x 17 columns]"
      ]
     },
     "execution_count": 37,
     "metadata": {},
     "output_type": "execute_result"
    }
   ],
   "source": [
    "df.sort_index()"
   ]
  },
  {
   "cell_type": "markdown",
   "metadata": {
    "id": "9ElW7kYEyJpc"
   },
   "source": [
    "#### 3.C [BONUS] Sort Data Frame using Age"
   ]
  },
  {
   "cell_type": "code",
   "execution_count": 38,
   "metadata": {
    "id": "dhI0huT13sQc"
   },
   "outputs": [
    {
     "data": {
      "text/html": [
       "<div>\n",
       "<style scoped>\n",
       "    .dataframe tbody tr th:only-of-type {\n",
       "        vertical-align: middle;\n",
       "    }\n",
       "\n",
       "    .dataframe tbody tr th {\n",
       "        vertical-align: top;\n",
       "    }\n",
       "\n",
       "    .dataframe thead th {\n",
       "        text-align: right;\n",
       "    }\n",
       "</style>\n",
       "<table border=\"1\" class=\"dataframe\">\n",
       "  <thead>\n",
       "    <tr style=\"text-align: right;\">\n",
       "      <th></th>\n",
       "      <th>recorddate_key</th>\n",
       "      <th>birthdate_key</th>\n",
       "      <th>orighiredate_key</th>\n",
       "      <th>terminationdate_key</th>\n",
       "      <th>age</th>\n",
       "      <th>length_of_service</th>\n",
       "      <th>city_name</th>\n",
       "      <th>department_name</th>\n",
       "      <th>job_title</th>\n",
       "      <th>store_name</th>\n",
       "      <th>gender_short</th>\n",
       "      <th>gender_full</th>\n",
       "      <th>termreason_desc</th>\n",
       "      <th>termtype_desc</th>\n",
       "      <th>STATUS_YEAR</th>\n",
       "      <th>STATUS</th>\n",
       "      <th>BUSINESS_UNIT</th>\n",
       "    </tr>\n",
       "    <tr>\n",
       "      <th>EmployeeID</th>\n",
       "      <th></th>\n",
       "      <th></th>\n",
       "      <th></th>\n",
       "      <th></th>\n",
       "      <th></th>\n",
       "      <th></th>\n",
       "      <th></th>\n",
       "      <th></th>\n",
       "      <th></th>\n",
       "      <th></th>\n",
       "      <th></th>\n",
       "      <th></th>\n",
       "      <th></th>\n",
       "      <th></th>\n",
       "      <th></th>\n",
       "      <th></th>\n",
       "      <th></th>\n",
       "    </tr>\n",
       "  </thead>\n",
       "  <tbody>\n",
       "    <tr>\n",
       "      <th>2800</th>\n",
       "      <td>6/1/2007 0:00</td>\n",
       "      <td>6/3/1942</td>\n",
       "      <td>12/9/1993</td>\n",
       "      <td>6/3/2007</td>\n",
       "      <td>65</td>\n",
       "      <td>13</td>\n",
       "      <td>Prince George</td>\n",
       "      <td>Meats</td>\n",
       "      <td>Meat Cutter</td>\n",
       "      <td>26</td>\n",
       "      <td>F</td>\n",
       "      <td>Female</td>\n",
       "      <td>Retirement</td>\n",
       "      <td>Voluntary</td>\n",
       "      <td>2007</td>\n",
       "      <td>TERMINATED</td>\n",
       "      <td>STORES</td>\n",
       "    </tr>\n",
       "    <tr>\n",
       "      <th>2674</th>\n",
       "      <td>2/1/2007 0:00</td>\n",
       "      <td>2/11/1942</td>\n",
       "      <td>8/19/1993</td>\n",
       "      <td>2/11/2007</td>\n",
       "      <td>65</td>\n",
       "      <td>13</td>\n",
       "      <td>Kelowna</td>\n",
       "      <td>Meats</td>\n",
       "      <td>Meat Cutter</td>\n",
       "      <td>16</td>\n",
       "      <td>F</td>\n",
       "      <td>Female</td>\n",
       "      <td>Retirement</td>\n",
       "      <td>Voluntary</td>\n",
       "      <td>2007</td>\n",
       "      <td>TERMINATED</td>\n",
       "      <td>STORES</td>\n",
       "    </tr>\n",
       "    <tr>\n",
       "      <th>2598</th>\n",
       "      <td>11/1/2006 0:00</td>\n",
       "      <td>11/22/1941</td>\n",
       "      <td>5/30/1993</td>\n",
       "      <td>11/22/2006</td>\n",
       "      <td>65</td>\n",
       "      <td>13</td>\n",
       "      <td>Abbotsford</td>\n",
       "      <td>Produce</td>\n",
       "      <td>Produce Clerk</td>\n",
       "      <td>1</td>\n",
       "      <td>F</td>\n",
       "      <td>Female</td>\n",
       "      <td>Retirement</td>\n",
       "      <td>Voluntary</td>\n",
       "      <td>2006</td>\n",
       "      <td>TERMINATED</td>\n",
       "      <td>STORES</td>\n",
       "    </tr>\n",
       "    <tr>\n",
       "      <th>2599</th>\n",
       "      <td>11/1/2006 0:00</td>\n",
       "      <td>11/25/1941</td>\n",
       "      <td>6/2/1993</td>\n",
       "      <td>11/25/2006</td>\n",
       "      <td>65</td>\n",
       "      <td>13</td>\n",
       "      <td>Fort Nelson</td>\n",
       "      <td>Meats</td>\n",
       "      <td>Meat Cutter</td>\n",
       "      <td>11</td>\n",
       "      <td>F</td>\n",
       "      <td>Female</td>\n",
       "      <td>Retirement</td>\n",
       "      <td>Voluntary</td>\n",
       "      <td>2006</td>\n",
       "      <td>TERMINATED</td>\n",
       "      <td>STORES</td>\n",
       "    </tr>\n",
       "    <tr>\n",
       "      <th>2608</th>\n",
       "      <td>12/1/2006 0:00</td>\n",
       "      <td>12/1/1941</td>\n",
       "      <td>6/8/1993</td>\n",
       "      <td>12/1/2006</td>\n",
       "      <td>65</td>\n",
       "      <td>13</td>\n",
       "      <td>Vancouver</td>\n",
       "      <td>Dairy</td>\n",
       "      <td>Dairy Person</td>\n",
       "      <td>35</td>\n",
       "      <td>F</td>\n",
       "      <td>Female</td>\n",
       "      <td>Retirement</td>\n",
       "      <td>Voluntary</td>\n",
       "      <td>2006</td>\n",
       "      <td>TERMINATED</td>\n",
       "      <td>STORES</td>\n",
       "    </tr>\n",
       "    <tr>\n",
       "      <th>...</th>\n",
       "      <td>...</td>\n",
       "      <td>...</td>\n",
       "      <td>...</td>\n",
       "      <td>...</td>\n",
       "      <td>...</td>\n",
       "      <td>...</td>\n",
       "      <td>...</td>\n",
       "      <td>...</td>\n",
       "      <td>...</td>\n",
       "      <td>...</td>\n",
       "      <td>...</td>\n",
       "      <td>...</td>\n",
       "      <td>...</td>\n",
       "      <td>...</td>\n",
       "      <td>...</td>\n",
       "      <td>...</td>\n",
       "      <td>...</td>\n",
       "    </tr>\n",
       "    <tr>\n",
       "      <th>8283</th>\n",
       "      <td>12/31/2013 0:00</td>\n",
       "      <td>8/11/1994</td>\n",
       "      <td>9/27/2013</td>\n",
       "      <td>1/1/1900</td>\n",
       "      <td>19</td>\n",
       "      <td>0</td>\n",
       "      <td>Vernon</td>\n",
       "      <td>Customer Service</td>\n",
       "      <td>Cashier</td>\n",
       "      <td>36</td>\n",
       "      <td>M</td>\n",
       "      <td>Male</td>\n",
       "      <td>Not Applicable</td>\n",
       "      <td>Not Applicable</td>\n",
       "      <td>2013</td>\n",
       "      <td>ACTIVE</td>\n",
       "      <td>STORES</td>\n",
       "    </tr>\n",
       "    <tr>\n",
       "      <th>8222</th>\n",
       "      <td>12/31/2013 0:00</td>\n",
       "      <td>2/1/1994</td>\n",
       "      <td>6/18/2013</td>\n",
       "      <td>1/1/1900</td>\n",
       "      <td>19</td>\n",
       "      <td>0</td>\n",
       "      <td>Williams Lake</td>\n",
       "      <td>Customer Service</td>\n",
       "      <td>Cashier</td>\n",
       "      <td>40</td>\n",
       "      <td>F</td>\n",
       "      <td>Female</td>\n",
       "      <td>Not Applicable</td>\n",
       "      <td>Not Applicable</td>\n",
       "      <td>2013</td>\n",
       "      <td>ACTIVE</td>\n",
       "      <td>STORES</td>\n",
       "    </tr>\n",
       "    <tr>\n",
       "      <th>8221</th>\n",
       "      <td>12/31/2013 0:00</td>\n",
       "      <td>1/28/1994</td>\n",
       "      <td>6/16/2013</td>\n",
       "      <td>1/1/1900</td>\n",
       "      <td>19</td>\n",
       "      <td>0</td>\n",
       "      <td>New Westminster</td>\n",
       "      <td>Customer Service</td>\n",
       "      <td>Cashier</td>\n",
       "      <td>21</td>\n",
       "      <td>F</td>\n",
       "      <td>Female</td>\n",
       "      <td>Not Applicable</td>\n",
       "      <td>Not Applicable</td>\n",
       "      <td>2013</td>\n",
       "      <td>ACTIVE</td>\n",
       "      <td>STORES</td>\n",
       "    </tr>\n",
       "    <tr>\n",
       "      <th>8284</th>\n",
       "      <td>12/31/2013 0:00</td>\n",
       "      <td>8/10/1994</td>\n",
       "      <td>9/27/2013</td>\n",
       "      <td>1/1/1900</td>\n",
       "      <td>19</td>\n",
       "      <td>0</td>\n",
       "      <td>Cranbrook</td>\n",
       "      <td>Customer Service</td>\n",
       "      <td>Cashier</td>\n",
       "      <td>8</td>\n",
       "      <td>M</td>\n",
       "      <td>Male</td>\n",
       "      <td>Not Applicable</td>\n",
       "      <td>Not Applicable</td>\n",
       "      <td>2013</td>\n",
       "      <td>ACTIVE</td>\n",
       "      <td>STORES</td>\n",
       "    </tr>\n",
       "    <tr>\n",
       "      <th>8304</th>\n",
       "      <td>12/31/2013 0:00</td>\n",
       "      <td>10/7/1994</td>\n",
       "      <td>10/27/2013</td>\n",
       "      <td>1/1/1900</td>\n",
       "      <td>19</td>\n",
       "      <td>0</td>\n",
       "      <td>Terrace</td>\n",
       "      <td>Customer Service</td>\n",
       "      <td>Cashier</td>\n",
       "      <td>32</td>\n",
       "      <td>M</td>\n",
       "      <td>Male</td>\n",
       "      <td>Not Applicable</td>\n",
       "      <td>Not Applicable</td>\n",
       "      <td>2013</td>\n",
       "      <td>ACTIVE</td>\n",
       "      <td>STORES</td>\n",
       "    </tr>\n",
       "  </tbody>\n",
       "</table>\n",
       "<p>49653 rows × 17 columns</p>\n",
       "</div>"
      ],
      "text/plain": [
       "             recorddate_key birthdate_key orighiredate_key  \\\n",
       "EmployeeID                                                   \n",
       "2800          6/1/2007 0:00      6/3/1942        12/9/1993   \n",
       "2674          2/1/2007 0:00     2/11/1942        8/19/1993   \n",
       "2598         11/1/2006 0:00    11/22/1941        5/30/1993   \n",
       "2599         11/1/2006 0:00    11/25/1941         6/2/1993   \n",
       "2608         12/1/2006 0:00     12/1/1941         6/8/1993   \n",
       "...                     ...           ...              ...   \n",
       "8283        12/31/2013 0:00     8/11/1994        9/27/2013   \n",
       "8222        12/31/2013 0:00      2/1/1994        6/18/2013   \n",
       "8221        12/31/2013 0:00     1/28/1994        6/16/2013   \n",
       "8284        12/31/2013 0:00     8/10/1994        9/27/2013   \n",
       "8304        12/31/2013 0:00     10/7/1994       10/27/2013   \n",
       "\n",
       "           terminationdate_key  age  length_of_service        city_name  \\\n",
       "EmployeeID                                                                \n",
       "2800                  6/3/2007   65                 13    Prince George   \n",
       "2674                 2/11/2007   65                 13          Kelowna   \n",
       "2598                11/22/2006   65                 13       Abbotsford   \n",
       "2599                11/25/2006   65                 13      Fort Nelson   \n",
       "2608                 12/1/2006   65                 13        Vancouver   \n",
       "...                        ...  ...                ...              ...   \n",
       "8283                  1/1/1900   19                  0           Vernon   \n",
       "8222                  1/1/1900   19                  0    Williams Lake   \n",
       "8221                  1/1/1900   19                  0  New Westminster   \n",
       "8284                  1/1/1900   19                  0        Cranbrook   \n",
       "8304                  1/1/1900   19                  0          Terrace   \n",
       "\n",
       "             department_name      job_title  store_name gender_short  \\\n",
       "EmployeeID                                                             \n",
       "2800                   Meats    Meat Cutter          26            F   \n",
       "2674                   Meats    Meat Cutter          16            F   \n",
       "2598                 Produce  Produce Clerk           1            F   \n",
       "2599                   Meats    Meat Cutter          11            F   \n",
       "2608                   Dairy   Dairy Person          35            F   \n",
       "...                      ...            ...         ...          ...   \n",
       "8283        Customer Service        Cashier          36            M   \n",
       "8222        Customer Service        Cashier          40            F   \n",
       "8221        Customer Service        Cashier          21            F   \n",
       "8284        Customer Service        Cashier           8            M   \n",
       "8304        Customer Service        Cashier          32            M   \n",
       "\n",
       "           gender_full termreason_desc   termtype_desc  STATUS_YEAR  \\\n",
       "EmployeeID                                                            \n",
       "2800            Female      Retirement       Voluntary         2007   \n",
       "2674            Female      Retirement       Voluntary         2007   \n",
       "2598            Female      Retirement       Voluntary         2006   \n",
       "2599            Female      Retirement       Voluntary         2006   \n",
       "2608            Female      Retirement       Voluntary         2006   \n",
       "...                ...             ...             ...          ...   \n",
       "8283              Male  Not Applicable  Not Applicable         2013   \n",
       "8222            Female  Not Applicable  Not Applicable         2013   \n",
       "8221            Female  Not Applicable  Not Applicable         2013   \n",
       "8284              Male  Not Applicable  Not Applicable         2013   \n",
       "8304              Male  Not Applicable  Not Applicable         2013   \n",
       "\n",
       "                STATUS BUSINESS_UNIT  \n",
       "EmployeeID                            \n",
       "2800        TERMINATED        STORES  \n",
       "2674        TERMINATED        STORES  \n",
       "2598        TERMINATED        STORES  \n",
       "2599        TERMINATED        STORES  \n",
       "2608        TERMINATED        STORES  \n",
       "...                ...           ...  \n",
       "8283            ACTIVE        STORES  \n",
       "8222            ACTIVE        STORES  \n",
       "8221            ACTIVE        STORES  \n",
       "8284            ACTIVE        STORES  \n",
       "8304            ACTIVE        STORES  \n",
       "\n",
       "[49653 rows x 17 columns]"
      ]
     },
     "execution_count": 38,
     "metadata": {},
     "output_type": "execute_result"
    }
   ],
   "source": [
    "df.sort_values(['age'], ascending=[0])"
   ]
  },
  {
   "cell_type": "markdown",
   "metadata": {
    "id": "VvveQ2cAySpi"
   },
   "source": [
    "#### 3.D [BONUS] Using Sample Select Any Row "
   ]
  },
  {
   "cell_type": "code",
   "execution_count": 39,
   "metadata": {
    "id": "4nVrO5Pwdsom"
   },
   "outputs": [
    {
     "data": {
      "text/html": [
       "<div>\n",
       "<style scoped>\n",
       "    .dataframe tbody tr th:only-of-type {\n",
       "        vertical-align: middle;\n",
       "    }\n",
       "\n",
       "    .dataframe tbody tr th {\n",
       "        vertical-align: top;\n",
       "    }\n",
       "\n",
       "    .dataframe thead th {\n",
       "        text-align: right;\n",
       "    }\n",
       "</style>\n",
       "<table border=\"1\" class=\"dataframe\">\n",
       "  <thead>\n",
       "    <tr style=\"text-align: right;\">\n",
       "      <th></th>\n",
       "      <th>recorddate_key</th>\n",
       "      <th>birthdate_key</th>\n",
       "      <th>orighiredate_key</th>\n",
       "      <th>terminationdate_key</th>\n",
       "      <th>age</th>\n",
       "      <th>length_of_service</th>\n",
       "      <th>city_name</th>\n",
       "      <th>department_name</th>\n",
       "      <th>job_title</th>\n",
       "      <th>store_name</th>\n",
       "      <th>gender_short</th>\n",
       "      <th>gender_full</th>\n",
       "      <th>termreason_desc</th>\n",
       "      <th>termtype_desc</th>\n",
       "      <th>STATUS_YEAR</th>\n",
       "      <th>STATUS</th>\n",
       "      <th>BUSINESS_UNIT</th>\n",
       "    </tr>\n",
       "    <tr>\n",
       "      <th>EmployeeID</th>\n",
       "      <th></th>\n",
       "      <th></th>\n",
       "      <th></th>\n",
       "      <th></th>\n",
       "      <th></th>\n",
       "      <th></th>\n",
       "      <th></th>\n",
       "      <th></th>\n",
       "      <th></th>\n",
       "      <th></th>\n",
       "      <th></th>\n",
       "      <th></th>\n",
       "      <th></th>\n",
       "      <th></th>\n",
       "      <th></th>\n",
       "      <th></th>\n",
       "      <th></th>\n",
       "    </tr>\n",
       "  </thead>\n",
       "  <tbody>\n",
       "    <tr>\n",
       "      <th>4760</th>\n",
       "      <td>12/1/2012 0:00</td>\n",
       "      <td>8/14/1967</td>\n",
       "      <td>6/27/1999</td>\n",
       "      <td>12/6/2012</td>\n",
       "      <td>45</td>\n",
       "      <td>13</td>\n",
       "      <td>Port Coquitlam</td>\n",
       "      <td>Dairy</td>\n",
       "      <td>Dairy Person</td>\n",
       "      <td>25</td>\n",
       "      <td>F</td>\n",
       "      <td>Female</td>\n",
       "      <td>Resignaton</td>\n",
       "      <td>Voluntary</td>\n",
       "      <td>2012</td>\n",
       "      <td>TERMINATED</td>\n",
       "      <td>STORES</td>\n",
       "    </tr>\n",
       "  </tbody>\n",
       "</table>\n",
       "</div>"
      ],
      "text/plain": [
       "            recorddate_key birthdate_key orighiredate_key terminationdate_key  \\\n",
       "EmployeeID                                                                      \n",
       "4760        12/1/2012 0:00     8/14/1967        6/27/1999           12/6/2012   \n",
       "\n",
       "            age  length_of_service       city_name department_name  \\\n",
       "EmployeeID                                                           \n",
       "4760         45                 13  Port Coquitlam           Dairy   \n",
       "\n",
       "               job_title  store_name gender_short gender_full termreason_desc  \\\n",
       "EmployeeID                                                                      \n",
       "4760        Dairy Person          25            F      Female      Resignaton   \n",
       "\n",
       "           termtype_desc  STATUS_YEAR      STATUS BUSINESS_UNIT  \n",
       "EmployeeID                                                       \n",
       "4760           Voluntary         2012  TERMINATED        STORES  "
      ]
     },
     "execution_count": 39,
     "metadata": {},
     "output_type": "execute_result"
    }
   ],
   "source": [
    "df.sample()"
   ]
  },
  {
   "cell_type": "markdown",
   "metadata": {
    "id": "5XeLtowlsaYk"
   },
   "source": [
    "# 4. Query Data Frame\n",
    "\n",
    "#### 4.A Find Rows Where Job_Title is CEO"
   ]
  },
  {
   "cell_type": "code",
   "execution_count": 40,
   "metadata": {
    "id": "11b0ZSKcsi3Q"
   },
   "outputs": [
    {
     "data": {
      "text/html": [
       "<div>\n",
       "<style scoped>\n",
       "    .dataframe tbody tr th:only-of-type {\n",
       "        vertical-align: middle;\n",
       "    }\n",
       "\n",
       "    .dataframe tbody tr th {\n",
       "        vertical-align: top;\n",
       "    }\n",
       "\n",
       "    .dataframe thead th {\n",
       "        text-align: right;\n",
       "    }\n",
       "</style>\n",
       "<table border=\"1\" class=\"dataframe\">\n",
       "  <thead>\n",
       "    <tr style=\"text-align: right;\">\n",
       "      <th></th>\n",
       "      <th>recorddate_key</th>\n",
       "      <th>birthdate_key</th>\n",
       "      <th>orighiredate_key</th>\n",
       "      <th>terminationdate_key</th>\n",
       "      <th>age</th>\n",
       "      <th>length_of_service</th>\n",
       "      <th>city_name</th>\n",
       "      <th>department_name</th>\n",
       "      <th>job_title</th>\n",
       "      <th>store_name</th>\n",
       "      <th>gender_short</th>\n",
       "      <th>gender_full</th>\n",
       "      <th>termreason_desc</th>\n",
       "      <th>termtype_desc</th>\n",
       "      <th>STATUS_YEAR</th>\n",
       "      <th>STATUS</th>\n",
       "      <th>BUSINESS_UNIT</th>\n",
       "    </tr>\n",
       "    <tr>\n",
       "      <th>EmployeeID</th>\n",
       "      <th></th>\n",
       "      <th></th>\n",
       "      <th></th>\n",
       "      <th></th>\n",
       "      <th></th>\n",
       "      <th></th>\n",
       "      <th></th>\n",
       "      <th></th>\n",
       "      <th></th>\n",
       "      <th></th>\n",
       "      <th></th>\n",
       "      <th></th>\n",
       "      <th></th>\n",
       "      <th></th>\n",
       "      <th></th>\n",
       "      <th></th>\n",
       "      <th></th>\n",
       "    </tr>\n",
       "  </thead>\n",
       "  <tbody>\n",
       "    <tr>\n",
       "      <th>1318</th>\n",
       "      <td>12/31/2006 0:00</td>\n",
       "      <td>1/3/1954</td>\n",
       "      <td>8/28/1989</td>\n",
       "      <td>1/1/1900</td>\n",
       "      <td>52</td>\n",
       "      <td>17</td>\n",
       "      <td>Vancouver</td>\n",
       "      <td>Executive</td>\n",
       "      <td>CEO</td>\n",
       "      <td>35</td>\n",
       "      <td>M</td>\n",
       "      <td>Male</td>\n",
       "      <td>Not Applicable</td>\n",
       "      <td>Not Applicable</td>\n",
       "      <td>2006</td>\n",
       "      <td>ACTIVE</td>\n",
       "      <td>HEADOFFICE</td>\n",
       "    </tr>\n",
       "    <tr>\n",
       "      <th>1318</th>\n",
       "      <td>12/31/2007 0:00</td>\n",
       "      <td>1/3/1954</td>\n",
       "      <td>8/28/1989</td>\n",
       "      <td>1/1/1900</td>\n",
       "      <td>53</td>\n",
       "      <td>18</td>\n",
       "      <td>Vancouver</td>\n",
       "      <td>Executive</td>\n",
       "      <td>CEO</td>\n",
       "      <td>35</td>\n",
       "      <td>M</td>\n",
       "      <td>Male</td>\n",
       "      <td>Not Applicable</td>\n",
       "      <td>Not Applicable</td>\n",
       "      <td>2007</td>\n",
       "      <td>ACTIVE</td>\n",
       "      <td>HEADOFFICE</td>\n",
       "    </tr>\n",
       "    <tr>\n",
       "      <th>1318</th>\n",
       "      <td>12/31/2008 0:00</td>\n",
       "      <td>1/3/1954</td>\n",
       "      <td>8/28/1989</td>\n",
       "      <td>1/1/1900</td>\n",
       "      <td>54</td>\n",
       "      <td>19</td>\n",
       "      <td>Vancouver</td>\n",
       "      <td>Executive</td>\n",
       "      <td>CEO</td>\n",
       "      <td>35</td>\n",
       "      <td>M</td>\n",
       "      <td>Male</td>\n",
       "      <td>Not Applicable</td>\n",
       "      <td>Not Applicable</td>\n",
       "      <td>2008</td>\n",
       "      <td>ACTIVE</td>\n",
       "      <td>HEADOFFICE</td>\n",
       "    </tr>\n",
       "    <tr>\n",
       "      <th>1318</th>\n",
       "      <td>12/31/2009 0:00</td>\n",
       "      <td>1/3/1954</td>\n",
       "      <td>8/28/1989</td>\n",
       "      <td>1/1/1900</td>\n",
       "      <td>55</td>\n",
       "      <td>20</td>\n",
       "      <td>Vancouver</td>\n",
       "      <td>Executive</td>\n",
       "      <td>CEO</td>\n",
       "      <td>35</td>\n",
       "      <td>M</td>\n",
       "      <td>Male</td>\n",
       "      <td>Not Applicable</td>\n",
       "      <td>Not Applicable</td>\n",
       "      <td>2009</td>\n",
       "      <td>ACTIVE</td>\n",
       "      <td>HEADOFFICE</td>\n",
       "    </tr>\n",
       "    <tr>\n",
       "      <th>1318</th>\n",
       "      <td>12/31/2010 0:00</td>\n",
       "      <td>1/3/1954</td>\n",
       "      <td>8/28/1989</td>\n",
       "      <td>1/1/1900</td>\n",
       "      <td>56</td>\n",
       "      <td>21</td>\n",
       "      <td>Vancouver</td>\n",
       "      <td>Executive</td>\n",
       "      <td>CEO</td>\n",
       "      <td>35</td>\n",
       "      <td>M</td>\n",
       "      <td>Male</td>\n",
       "      <td>Not Applicable</td>\n",
       "      <td>Not Applicable</td>\n",
       "      <td>2010</td>\n",
       "      <td>ACTIVE</td>\n",
       "      <td>HEADOFFICE</td>\n",
       "    </tr>\n",
       "    <tr>\n",
       "      <th>1318</th>\n",
       "      <td>12/31/2011 0:00</td>\n",
       "      <td>1/3/1954</td>\n",
       "      <td>8/28/1989</td>\n",
       "      <td>1/1/1900</td>\n",
       "      <td>57</td>\n",
       "      <td>22</td>\n",
       "      <td>Vancouver</td>\n",
       "      <td>Executive</td>\n",
       "      <td>CEO</td>\n",
       "      <td>35</td>\n",
       "      <td>M</td>\n",
       "      <td>Male</td>\n",
       "      <td>Not Applicable</td>\n",
       "      <td>Not Applicable</td>\n",
       "      <td>2011</td>\n",
       "      <td>ACTIVE</td>\n",
       "      <td>HEADOFFICE</td>\n",
       "    </tr>\n",
       "    <tr>\n",
       "      <th>1318</th>\n",
       "      <td>12/31/2012 0:00</td>\n",
       "      <td>1/3/1954</td>\n",
       "      <td>8/28/1989</td>\n",
       "      <td>1/1/1900</td>\n",
       "      <td>58</td>\n",
       "      <td>23</td>\n",
       "      <td>Vancouver</td>\n",
       "      <td>Executive</td>\n",
       "      <td>CEO</td>\n",
       "      <td>35</td>\n",
       "      <td>M</td>\n",
       "      <td>Male</td>\n",
       "      <td>Not Applicable</td>\n",
       "      <td>Not Applicable</td>\n",
       "      <td>2012</td>\n",
       "      <td>ACTIVE</td>\n",
       "      <td>HEADOFFICE</td>\n",
       "    </tr>\n",
       "    <tr>\n",
       "      <th>1318</th>\n",
       "      <td>12/31/2013 0:00</td>\n",
       "      <td>1/3/1954</td>\n",
       "      <td>8/28/1989</td>\n",
       "      <td>1/1/1900</td>\n",
       "      <td>59</td>\n",
       "      <td>24</td>\n",
       "      <td>Vancouver</td>\n",
       "      <td>Executive</td>\n",
       "      <td>CEO</td>\n",
       "      <td>35</td>\n",
       "      <td>M</td>\n",
       "      <td>Male</td>\n",
       "      <td>Not Applicable</td>\n",
       "      <td>Not Applicable</td>\n",
       "      <td>2013</td>\n",
       "      <td>ACTIVE</td>\n",
       "      <td>HEADOFFICE</td>\n",
       "    </tr>\n",
       "    <tr>\n",
       "      <th>1318</th>\n",
       "      <td>12/31/2014 0:00</td>\n",
       "      <td>1/3/1954</td>\n",
       "      <td>8/28/1989</td>\n",
       "      <td>1/1/1900</td>\n",
       "      <td>60</td>\n",
       "      <td>25</td>\n",
       "      <td>Vancouver</td>\n",
       "      <td>Executive</td>\n",
       "      <td>CEO</td>\n",
       "      <td>35</td>\n",
       "      <td>M</td>\n",
       "      <td>Male</td>\n",
       "      <td>Not Applicable</td>\n",
       "      <td>Not Applicable</td>\n",
       "      <td>2014</td>\n",
       "      <td>ACTIVE</td>\n",
       "      <td>HEADOFFICE</td>\n",
       "    </tr>\n",
       "    <tr>\n",
       "      <th>1318</th>\n",
       "      <td>12/31/2015 0:00</td>\n",
       "      <td>1/3/1954</td>\n",
       "      <td>8/28/1989</td>\n",
       "      <td>1/1/1900</td>\n",
       "      <td>61</td>\n",
       "      <td>26</td>\n",
       "      <td>Vancouver</td>\n",
       "      <td>Executive</td>\n",
       "      <td>CEO</td>\n",
       "      <td>35</td>\n",
       "      <td>M</td>\n",
       "      <td>Male</td>\n",
       "      <td>Not Applicable</td>\n",
       "      <td>Not Applicable</td>\n",
       "      <td>2015</td>\n",
       "      <td>ACTIVE</td>\n",
       "      <td>HEADOFFICE</td>\n",
       "    </tr>\n",
       "  </tbody>\n",
       "</table>\n",
       "</div>"
      ],
      "text/plain": [
       "             recorddate_key birthdate_key orighiredate_key  \\\n",
       "EmployeeID                                                   \n",
       "1318        12/31/2006 0:00      1/3/1954        8/28/1989   \n",
       "1318        12/31/2007 0:00      1/3/1954        8/28/1989   \n",
       "1318        12/31/2008 0:00      1/3/1954        8/28/1989   \n",
       "1318        12/31/2009 0:00      1/3/1954        8/28/1989   \n",
       "1318        12/31/2010 0:00      1/3/1954        8/28/1989   \n",
       "1318        12/31/2011 0:00      1/3/1954        8/28/1989   \n",
       "1318        12/31/2012 0:00      1/3/1954        8/28/1989   \n",
       "1318        12/31/2013 0:00      1/3/1954        8/28/1989   \n",
       "1318        12/31/2014 0:00      1/3/1954        8/28/1989   \n",
       "1318        12/31/2015 0:00      1/3/1954        8/28/1989   \n",
       "\n",
       "           terminationdate_key  age  length_of_service  city_name  \\\n",
       "EmployeeID                                                          \n",
       "1318                  1/1/1900   52                 17  Vancouver   \n",
       "1318                  1/1/1900   53                 18  Vancouver   \n",
       "1318                  1/1/1900   54                 19  Vancouver   \n",
       "1318                  1/1/1900   55                 20  Vancouver   \n",
       "1318                  1/1/1900   56                 21  Vancouver   \n",
       "1318                  1/1/1900   57                 22  Vancouver   \n",
       "1318                  1/1/1900   58                 23  Vancouver   \n",
       "1318                  1/1/1900   59                 24  Vancouver   \n",
       "1318                  1/1/1900   60                 25  Vancouver   \n",
       "1318                  1/1/1900   61                 26  Vancouver   \n",
       "\n",
       "           department_name job_title  store_name gender_short gender_full  \\\n",
       "EmployeeID                                                                  \n",
       "1318             Executive       CEO          35            M        Male   \n",
       "1318             Executive       CEO          35            M        Male   \n",
       "1318             Executive       CEO          35            M        Male   \n",
       "1318             Executive       CEO          35            M        Male   \n",
       "1318             Executive       CEO          35            M        Male   \n",
       "1318             Executive       CEO          35            M        Male   \n",
       "1318             Executive       CEO          35            M        Male   \n",
       "1318             Executive       CEO          35            M        Male   \n",
       "1318             Executive       CEO          35            M        Male   \n",
       "1318             Executive       CEO          35            M        Male   \n",
       "\n",
       "           termreason_desc   termtype_desc  STATUS_YEAR  STATUS BUSINESS_UNIT  \n",
       "EmployeeID                                                                     \n",
       "1318        Not Applicable  Not Applicable         2006  ACTIVE    HEADOFFICE  \n",
       "1318        Not Applicable  Not Applicable         2007  ACTIVE    HEADOFFICE  \n",
       "1318        Not Applicable  Not Applicable         2008  ACTIVE    HEADOFFICE  \n",
       "1318        Not Applicable  Not Applicable         2009  ACTIVE    HEADOFFICE  \n",
       "1318        Not Applicable  Not Applicable         2010  ACTIVE    HEADOFFICE  \n",
       "1318        Not Applicable  Not Applicable         2011  ACTIVE    HEADOFFICE  \n",
       "1318        Not Applicable  Not Applicable         2012  ACTIVE    HEADOFFICE  \n",
       "1318        Not Applicable  Not Applicable         2013  ACTIVE    HEADOFFICE  \n",
       "1318        Not Applicable  Not Applicable         2014  ACTIVE    HEADOFFICE  \n",
       "1318        Not Applicable  Not Applicable         2015  ACTIVE    HEADOFFICE  "
      ]
     },
     "execution_count": 40,
     "metadata": {},
     "output_type": "execute_result"
    }
   ],
   "source": [
    "df[df['job_title'] == 'CEO']"
   ]
  },
  {
   "cell_type": "markdown",
   "metadata": {
    "id": "qhN9k6KOylrt"
   },
   "source": [
    "#### 4.B Group By Age"
   ]
  },
  {
   "cell_type": "code",
   "execution_count": 41,
   "metadata": {
    "id": "Ia56-Vi9dsoo"
   },
   "outputs": [
    {
     "data": {
      "text/plain": [
       "age\n",
       "19     158\n",
       "20     408\n",
       "21     703\n",
       "22     815\n",
       "23     960\n",
       "24    1111\n",
       "25    1197\n",
       "26    1210\n",
       "27    1235\n",
       "28    1225\n",
       "29    1227\n",
       "30    1212\n",
       "31    1146\n",
       "32    1153\n",
       "33    1164\n",
       "34    1188\n",
       "35    1189\n",
       "36    1176\n",
       "37    1149\n",
       "38    1156\n",
       "39    1142\n",
       "40    1130\n",
       "41    1135\n",
       "42    1152\n",
       "43    1150\n",
       "44    1157\n",
       "45    1141\n",
       "46    1161\n",
       "47    1173\n",
       "48    1180\n",
       "49    1196\n",
       "50    1218\n",
       "51    1207\n",
       "52    1188\n",
       "53    1188\n",
       "54    1159\n",
       "55    1168\n",
       "56    1154\n",
       "57    1130\n",
       "58    1130\n",
       "59    1128\n",
       "60    1109\n",
       "61     757\n",
       "62     712\n",
       "63     667\n",
       "64     646\n",
       "65     593\n",
       "dtype: int64"
      ]
     },
     "execution_count": 41,
     "metadata": {},
     "output_type": "execute_result"
    }
   ],
   "source": [
    "age_dist = df.groupby(['age']).size()\n",
    "age_dist"
   ]
  },
  {
   "cell_type": "markdown",
   "metadata": {
    "id": "L5yQi1wHyuAh"
   },
   "source": [
    "# 5. Visualization\n",
    "\n",
    "> Indented block\n",
    "\n",
    "\n",
    "\n",
    "#### 5.A Plot Histogram of Age "
   ]
  },
  {
   "cell_type": "code",
   "execution_count": 42,
   "metadata": {
    "id": "YcUyfH1tdsor"
   },
   "outputs": [
    {
     "data": {
      "image/png": "[encoded data removed]",
      "text/plain": [
       "<Figure size 432x288 with 1 Axes>"
      ]
     },
     "metadata": {
      "needs_background": "light"
     },
     "output_type": "display_data"
    }
   ],
   "source": [
    "num_bins = 50\n",
    "n, bins, patches = plt.hist(df.age, num_bins, facecolor='red', alpha=0.4)"
   ]
  },
  {
   "cell_type": "markdown",
   "metadata": {
    "id": "f5ev6X-Uy-CP"
   },
   "source": [
    "#### 5.B BoxPlot of Age"
   ]
  },
  {
   "cell_type": "code",
   "execution_count": 43,
   "metadata": {
    "id": "ukRrrJFmdsow"
   },
   "outputs": [
    {
     "name": "stderr",
     "output_type": "stream",
     "text": [
      "C:\\Users\\boco7097\\AppData\\Local\\Temp\\ipykernel_20568\\885867183.py:3: MatplotlibDeprecationWarning: The 'b' parameter of grid() has been renamed 'visible' since Matplotlib 3.5; support for the old name will be dropped two minor releases later.\n",
      "  plt.grid(b=True, which='major', color='b', linestyle='-')\n",
      "C:\\Users\\boco7097\\AppData\\Local\\Temp\\ipykernel_20568\\885867183.py:4: MatplotlibDeprecationWarning: The 'b' parameter of grid() has been renamed 'visible' since Matplotlib 3.5; support for the old name will be dropped two minor releases later.\n",
      "  plt.grid(b=True, which='minor', color='r', linestyle='--')\n"
     ]
    },
    {
     "data": {
      "image/png": "[encoded data removed]",
      "text/plain": [
       "<Figure size 432x288 with 1 Axes>"
      ]
     },
     "metadata": {
      "needs_background": "light"
     },
     "output_type": "display_data"
    }
   ],
   "source": [
    "plt.boxplot(df.age)\n",
    "plt.yscale('linear')\n",
    "plt.grid(b=True, which='major', color='b', linestyle='-')\n",
    "plt.grid(b=True, which='minor', color='r', linestyle='--')\n",
    "plt.show()"
   ]
  },
  {
   "cell_type": "markdown",
   "metadata": {
    "id": "VdvlCmOczGs1"
   },
   "source": [
    "#### 5.C Scatterplot of age and length_of_service"
   ]
  },
  {
   "cell_type": "code",
   "execution_count": 44,
   "metadata": {
    "id": "OZBpp-O5dsoz"
   },
   "outputs": [
    {
     "data": {
      "image/png": "[encoded data removed]",
      "text/plain": [
       "<Figure size 432x288 with 1 Axes>"
      ]
     },
     "metadata": {
      "needs_background": "light"
     },
     "output_type": "display_data"
    }
   ],
   "source": [
    "plt.scatter(df.age, df.length_of_service)\n",
    "plt.show()"
   ]
  },
  {
   "cell_type": "markdown",
   "metadata": {
    "id": "O-Mn86xZzjC9"
   },
   "source": [
    "#### 5.D Print Statistical Summary of Age"
   ]
  },
  {
   "cell_type": "code",
   "execution_count": 45,
   "metadata": {
    "id": "gMeCpCUzdso4"
   },
   "outputs": [
    {
     "name": "stdout",
     "output_type": "stream",
     "text": [
      "statistical summary of observations = DescribeResult(nobs=49653, minmax=(19, 65), mean=42.077034620264634, variance=154.4367264677654, skewness=0.023093117697645202, kurtosis=-1.1473302603578608)\n"
     ]
    }
   ],
   "source": [
    "print('statistical summary of observations =',stats.describe(df.age))"
   ]
  },
  {
   "cell_type": "markdown",
   "metadata": {
    "id": "XYm9Jsx2pybf"
   },
   "source": [
    "\n",
    "\n",
    "---\n",
    "\n",
    "\n",
    "\n",
    "---\n",
    "\n",
    "\n",
    "\n",
    "> > > > > > > > > © 2022 Institute of Data\n",
    "\n",
    "\n",
    "---\n",
    "\n",
    "\n",
    "\n",
    "---\n",
    "\n",
    "\n",
    "\n"
   ]
  }
 ],
 "metadata": {
  "colab": {
   "collapsed_sections": [],
   "name": "Lab 1.2.2 Pandas Lab.ipynb",
   "provenance": [
    {
     "file_id": "https://github.com/ikfaisal/dsia/blob/master/Pandas01_Lab_Solution.ipynb",
     "timestamp": 1552628309393
    }
   ]
  },
  "kernelspec": {
   "display_name": "Python 3 (ipykernel)",
   "language": "python",
   "name": "python3"
  },
  "language_info": {
   "codemirror_mode": {
    "name": "ipython",
    "version": 3
   },
   "file_extension": ".py",
   "mimetype": "text/x-python",
   "name": "python",
   "nbconvert_exporter": "python",
   "pygments_lexer": "ipython3",
   "version": "3.9.12"
  }
 },
 "nbformat": 4,
 "nbformat_minor": 4
}
